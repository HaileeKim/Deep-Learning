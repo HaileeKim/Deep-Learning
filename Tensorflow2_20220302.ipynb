{
  "nbformat": 4,
  "nbformat_minor": 0,
  "metadata": {
    "colab": {
      "name": "Tensorflow2.ipynb",
      "provenance": [],
      "collapsed_sections": [],
      "authorship_tag": "ABX9TyPJ7zF3W6dnwlM3fSeoLUXe",
      "include_colab_link": true
    },
    "kernelspec": {
      "name": "python3",
      "display_name": "Python 3"
    },
    "language_info": {
      "name": "python"
    }
  },
  "cells": [
    {
      "cell_type": "markdown",
      "metadata": {
        "id": "view-in-github",
        "colab_type": "text"
      },
      "source": [
        "<a href=\"https://colab.research.google.com/github/HaileeKim/Deep-Learning/blob/master/Tensorflow2_20220302.ipynb\" target=\"_parent\"><img src=\"https://colab.research.google.com/assets/colab-badge.svg\" alt=\"Open In Colab\"/></a>"
      ]
    },
    {
      "cell_type": "code",
      "execution_count": null,
      "metadata": {
        "colab": {
          "base_uri": "https://localhost:8080/"
        },
        "id": "oFFYvfJ6XAiH",
        "outputId": "766dc1d9-3d61-4311-ed3d-822e08e4df3a"
      },
      "outputs": [
        {
          "output_type": "stream",
          "name": "stdout",
          "text": [
            "Model: \"sequential_12\"\n",
            "_________________________________________________________________\n",
            " Layer (type)                Output Shape              Param #   \n",
            "=================================================================\n",
            " flatten_11 (Flatten)        (None, 784)               0         \n",
            "                                                                 \n",
            " dense_18 (Dense)            (None, 128)               100480    \n",
            "                                                                 \n",
            " dense_19 (Dense)            (None, 10)                1290      \n",
            "                                                                 \n",
            "=================================================================\n",
            "Total params: 101,770\n",
            "Trainable params: 101,770\n",
            "Non-trainable params: 0\n",
            "_________________________________________________________________\n"
          ]
        }
      ],
      "source": [
        "import tensorflow as tf\n",
        "num_classes = 10\n",
        "img_rows, img_cols = 28, 28\n",
        "num_channels = 1\n",
        "input_shape = (img_rows, img_cols, num_channels)\n",
        "\n",
        "(x_train, y_train),(x_test, y_test) = tf.keras.datasets.mnist.load_data()\n",
        "x_train, x_test = x_train / 255.0, x_test / 255.0\n",
        "\n",
        "model = tf.keras.models.Sequential()\n",
        "model.add(tf.keras.Input(shape=input_shape))\n",
        "model.add(tf.keras.layers.Flatten())\n",
        "model.add(tf.keras.layers.Dense(128, activation = 'relu'))\n",
        "model.add(tf.keras.layers.Dense(num_classes, activation = 'softmax'))\n",
        "\n",
        "model.summary()\n"
      ]
    },
    {
      "cell_type": "code",
      "source": [
        "model.compile(optimizer = 'sgd', loss = 'sparse_categorical_crossentropy', metrics = ['accuracy'])\n",
        "\n",
        "model.fit(x_train, y_train, epochs = 5, verbose = 1, validation_data = (x_test, y_test))"
      ],
      "metadata": {
        "colab": {
          "base_uri": "https://localhost:8080/"
        },
        "id": "kOdmOtZmY3S5",
        "outputId": "987ee82c-8895-47e1-d4b4-c26823c1e270"
      },
      "execution_count": null,
      "outputs": [
        {
          "output_type": "stream",
          "name": "stdout",
          "text": [
            "Epoch 1/5\n",
            "1875/1875 [==============================] - 6s 3ms/step - loss: 0.6353 - accuracy: 0.8402 - val_loss: 0.3550 - val_accuracy: 0.9003\n",
            "Epoch 2/5\n",
            "1875/1875 [==============================] - 4s 2ms/step - loss: 0.3341 - accuracy: 0.9068 - val_loss: 0.2919 - val_accuracy: 0.9189\n",
            "Epoch 3/5\n",
            "1875/1875 [==============================] - 5s 2ms/step - loss: 0.2861 - accuracy: 0.9198 - val_loss: 0.2599 - val_accuracy: 0.9272\n",
            "Epoch 4/5\n",
            "1875/1875 [==============================] - 5s 2ms/step - loss: 0.2558 - accuracy: 0.9287 - val_loss: 0.2367 - val_accuracy: 0.9350\n",
            "Epoch 5/5\n",
            "1875/1875 [==============================] - 5s 2ms/step - loss: 0.2330 - accuracy: 0.9352 - val_loss: 0.2172 - val_accuracy: 0.9395\n"
          ]
        },
        {
          "output_type": "execute_result",
          "data": {
            "text/plain": [
              "<keras.callbacks.History at 0x7f06d2c15350>"
            ]
          },
          "metadata": {},
          "execution_count": 18
        }
      ]
    },
    {
      "cell_type": "code",
      "source": [
        "import tensorflow as tf\n",
        "\n",
        "a = tf.constant([1,2,3])\n",
        "b = tf.constant([0,0,1])\n",
        "c = tf.add(a,b)\n",
        "\n",
        "print(c)\n",
        "\n",
        "\n",
        "def compute(a,b,c):\n",
        "\n",
        "  d = a*b + c\n",
        "  e = a * b * c\n",
        "  return d, e\n",
        "\n",
        "A, B = tf.constant(3.0), tf.constant(6.0)\n",
        "X = tf.Variable(20.0)\n",
        "loss = tf.math.abs(A * X - B)\n",
        "\n",
        "def train_step():\n",
        "  with tf.GradientTape() as tape:\n",
        "    loss = tf.math.abs(A * X - B)\n",
        "    dX = tape.gradient(loss, X)\n",
        "    print('X = {:.2f}, dX = {:.2f}'.format(X.numpy(), dX))\n",
        "    X.assign(X - dX)\n",
        "\n",
        "for i in range(7):\n",
        "  train_step()"
      ],
      "metadata": {
        "colab": {
          "base_uri": "https://localhost:8080/"
        },
        "id": "vIkiueqbbzQS",
        "outputId": "1dd1bee0-54d1-4205-e5ad-b2a07f448347"
      },
      "execution_count": null,
      "outputs": [
        {
          "output_type": "stream",
          "name": "stdout",
          "text": [
            "tf.Tensor([1 2 4], shape=(3,), dtype=int32)\n",
            "X = 20.00, dX = 3.00\n",
            "X = 17.00, dX = 3.00\n",
            "X = 14.00, dX = 3.00\n",
            "X = 11.00, dX = 3.00\n",
            "X = 8.00, dX = 3.00\n",
            "X = 5.00, dX = 3.00\n",
            "X = 2.00, dX = 0.00\n"
          ]
        }
      ]
    }
  ]
}